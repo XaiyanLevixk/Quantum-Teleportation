{
 "cells": [
  {
   "cell_type": "code",
   "execution_count": 1,
   "metadata": {},
   "outputs": [],
   "source": [
    "def initialize_qubit(given_circuit, qubit_index):\n",
    "    import numpy as np\n",
    "    given_circuit.initialize([np.sqrt(0.70), np.sqrt(0.30)], qubit_index)\n",
    "    return given_circuit"
   ]
  },
  {
   "cell_type": "code",
   "execution_count": 2,
   "metadata": {},
   "outputs": [],
   "source": [
    "def entangle_qubits(given_circuit, qubit_Alice, qubit_Bob):\n",
    "    given_circuit.h(qubit_Alice)\n",
    "    given_circuit.cx(qubit_Alice,qubit_Bob)\n",
    "    return given_circuit"
   ]
  },
  {
   "cell_type": "code",
   "execution_count": 3,
   "metadata": {},
   "outputs": [],
   "source": [
    "def bell_meas_Alice_qubits(given_circuit, qubit1_Alice, qubit2_Alice, clbit1_Alice, clbit2_Alice):\n",
    "    given_circuit.cx(qubit1_Alice, qubit2_Alice)\n",
    "    given_circuit.h(qubit1_Alice)\n",
    "    given_circuit.barrier()\n",
    "    given_circuit.measure(qubit1_Alice, clbit1_Alice)\n",
    "    given_circuit.measure(qubit2_Alice, clbit2_Alice)\n",
    "    return given_circuit"
   ]
  },
  {
   "cell_type": "code",
   "execution_count": 4,
   "metadata": {},
   "outputs": [],
   "source": [
    "def controlled_ops_Bob_qubit(given_circuit, qubit_Bob, clbit1_Alice, clbit2_Alice):\n",
    "    given_circuit.x(qubit_Bob).c_if(clbit2_Alice, 1)\n",
    "    given_circuit.z(qubit_Bob).c_if(clbit1_Alice, 1)\n",
    "    return given_circuit"
   ]
  },
  {
   "cell_type": "code",
   "execution_count": 6,
   "metadata": {},
   "outputs": [
    {
     "data": {
      "text/html": [
       "<pre style=\"word-wrap: normal;white-space: pre;background: #fff0;line-height: 1.1;font-family: &quot;Courier New&quot;,Courier,monospace\">      ┌─────────────────────────────┐ ░            ░      ┌───┐ ░ ┌─┐    ░ »\n",
       "q2_0: ┤ initialize(0.83666,0.54772) ├─░────────────░───■──┤ H ├─░─┤M├────░─»\n",
       "      └─────────────────────────────┘ ░ ┌───┐      ░ ┌─┴─┐└───┘ ░ └╥┘┌─┐ ░ »\n",
       "q2_1: ────────────────────────────────░─┤ H ├──■───░─┤ X ├──────░──╫─┤M├─░─»\n",
       "                                      ░ └───┘┌─┴─┐ ░ └───┘      ░  ║ └╥┘ ░ »\n",
       "q3_0: ────────────────────────────────░──────┤ X ├─░────────────░──╫──╫──░─»\n",
       "                                      ░      └───┘ ░            ░  ║  ║  ░ »\n",
       "c2: 1/═════════════════════════════════════════════════════════════╩══╬════»\n",
       "                                                                   0  ║    »\n",
       "c3: 1/════════════════════════════════════════════════════════════════╩════»\n",
       "                                                                      0    »\n",
       "«                    \n",
       "«q2_0: ──────────────\n",
       "«                    \n",
       "«q2_1: ──────────────\n",
       "«       ┌───┐  ┌───┐ \n",
       "«q3_0: ─┤ X ├──┤ Z ├─\n",
       "«       └─┬─┘  └─┬─┘ \n",
       "«         │   ┌──┴──┐\n",
       "«c2: 1/═══╪═══╡ = 1 ╞\n",
       "«      ┌──┴──┐└─────┘\n",
       "«c3: 1/╡ = 1 ╞═══════\n",
       "«      └─────┘       </pre>"
      ],
      "text/plain": [
       "      ┌─────────────────────────────┐ ░            ░      ┌───┐ ░ ┌─┐    ░ »\n",
       "q2_0: ┤ initialize(0.83666,0.54772) ├─░────────────░───■──┤ H ├─░─┤M├────░─»\n",
       "      └─────────────────────────────┘ ░ ┌───┐      ░ ┌─┴─┐└───┘ ░ └╥┘┌─┐ ░ »\n",
       "q2_1: ────────────────────────────────░─┤ H ├──■───░─┤ X ├──────░──╫─┤M├─░─»\n",
       "                                      ░ └───┘┌─┴─┐ ░ └───┘      ░  ║ └╥┘ ░ »\n",
       "q3_0: ────────────────────────────────░──────┤ X ├─░────────────░──╫──╫──░─»\n",
       "                                      ░      └───┘ ░            ░  ║  ║  ░ »\n",
       "c2: 1/═════════════════════════════════════════════════════════════╩══╬════»\n",
       "                                                                   0  ║    »\n",
       "c3: 1/════════════════════════════════════════════════════════════════╩════»\n",
       "                                                                      0    »\n",
       "«                    \n",
       "«q2_0: ──────────────\n",
       "«                    \n",
       "«q2_1: ──────────────\n",
       "«       ┌───┐  ┌───┐ \n",
       "«q3_0: ─┤ X ├──┤ Z ├─\n",
       "«       └─┬─┘  └─┬─┘ \n",
       "«         │   ┌──┴──┐\n",
       "«c2: 1/═══╪═══╡ = 1 ╞\n",
       "«      ┌──┴──┐└─────┘\n",
       "«c3: 1/╡ = 1 ╞═══════\n",
       "«      └─────┘       "
      ]
     },
     "execution_count": 6,
     "metadata": {},
     "output_type": "execute_result"
    }
   ],
   "source": [
    "from qiskit import QuantumRegister, ClassicalRegister,QuantumCircuit\n",
    "all_qubits_Alice = QuantumRegister(2)\n",
    "all_qubits_Bob = QuantumRegister(1)\n",
    "creg1_Alice = ClassicalRegister(1)\n",
    "creg2_Alice = ClassicalRegister(1)\n",
    "mycircuit = QuantumCircuit(all_qubits_Alice, all_qubits_Bob, creg1_Alice, creg2_Alice)\n",
    "initialize_qubit(mycircuit, 0)\n",
    "mycircuit.barrier()\n",
    "entangle_qubits(mycircuit, 1, 2)\n",
    "mycircuit.barrier()\n",
    "bell_meas_Alice_qubits(mycircuit, all_qubits_Alice[0], all_qubits_Alice[1], creg1_Alice, creg2_Alice)\n",
    "mycircuit.barrier()\n",
    "controlled_ops_Bob_qubit(mycircuit, all_qubits_Bob[0], creg1_Alice, creg2_Alice)\n",
    "mycircuit.draw()"
   ]
  },
  {
   "cell_type": "code",
   "execution_count": null,
   "metadata": {},
   "outputs": [],
   "source": []
  }
 ],
 "metadata": {
  "kernelspec": {
   "display_name": "Python 3",
   "language": "python",
   "name": "python3"
  },
  "language_info": {
   "codemirror_mode": {
    "name": "ipython",
    "version": 3
   },
   "file_extension": ".py",
   "mimetype": "text/x-python",
   "name": "python",
   "nbconvert_exporter": "python",
   "pygments_lexer": "ipython3",
   "version": "3.8.3"
  }
 },
 "nbformat": 4,
 "nbformat_minor": 4
}
